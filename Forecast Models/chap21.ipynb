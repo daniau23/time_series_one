{
 "cells": [
  {
   "cell_type": "code",
   "execution_count": 1,
   "metadata": {},
   "outputs": [],
   "source": [
    "import pandas as pd\n",
    "import numpy as np \n",
    "import matplotlib.pyplot as plt\n",
    "import plotly.express as px\n",
    "import seaborn as sns\n",
    "import warnings\n",
    "import statsmodels.api as sm\n",
    "warnings.filterwarnings(\"ignore\")"
   ]
  },
  {
   "cell_type": "markdown",
   "metadata": {},
   "source": [
    "## **A Gentle Introduction to the Box-Jenkins Method**"
   ]
  },
  {
   "cell_type": "markdown",
   "metadata": {},
   "source": [
    "The Autoregressive Integrated Moving Average Model, or ARIMA for short is a standard statistical model for time series forecast and analysis. Along with its development, the authors Box and Jenkins also suggest a process for identifying, estimating, and checking models for a specific time series dataset. This process is now referred to as the Box-Jenkins Method. In this lesson, you will discover the Box-Jenkins Method and tips for using it on your time series forecasting problem.\n",
    "\n",
    "**Autoregressive Integrated Moving Average Model (ARIMA)**\n",
    "\n",
    "An ARIMA model is a class of statistical model for analyzing and forecasting time series data. It is a generalization of the simpler AutoRegressive Moving Average and adds the notion of integration. This acronym is descriptive, capturing the key aspects of the model itself. Briefly, they are:\n",
    "- **AR:** *Autoregression.* A model that uses the dependent relationship between an observation and some number of lagged observations.\n",
    "- **I:** *Integrated.* The use of differencing of raw observations (i.e. subtracting an observation from an observation at the previous time step) in order to make the time series stationary.\n",
    "- **MA:** *Moving Average.* A model that uses the dependency between an observation and residual errors from a moving average model applied to lagged observations.\n",
    "\n",
    "Each of these components are explicitly specified in the model as a parameter. A standard notation is used of ARIMA(p,d,q) where the parameters are substituted with integer values to quickly indicate the specific ARIMA model being used. The parameters of the ARIMA model are defined as follows:\n",
    "- **p:** The number of lag observations included in the model, also called the lag order.\n",
    "- **d:** The number of times that the raw observations are differenced, also called the degree of differencing. \n",
    "- **q:** The size of the moving average window, also called the order of moving average."
   ]
  },
  {
   "cell_type": "markdown",
   "metadata": {},
   "source": [
    "**Box-Jenkins Method**\n",
    "\n",
    "The Box-Jenkins method was proposed by George Box and Gwilym Jenkins in their seminal 1970 textbook Time Series Analysis: Forecasting and Control1. The approach starts with the assumption that the process that generated the time series can be approximated using an ARMA model if it is stationary or an ARIMA model if it is non-stationary. The 2016 5th edition of the textbook (Part Two, page 177) refers to the process as a stochastic model building and that it is an iterative approach that consists of the following 3 steps:\n",
    "\n",
    "1. **Identification.** Use the data and all related information to help select a sub-class of model that may best summarize the data.\n",
    "2. **Estimation.** Use the data to train the parameters of the model (i.e. the coefficients).\n",
    "3. **Diagnostic Checking.** Evaluate the fitted model in the context of the available data and check for areas where the model may be improved.\n",
    "\n",
    "It is an iterative process, so that as new information is gained during diagnostics, you can circle back to step 1 and incorporate that into new model classes.\n",
    "\n",
    "**Identification**\n",
    "\n",
    "The identification step is further broken down into: Assess whether the time series is stationary, and if not, how many differences are required to make it stationary. Identify the parameters of an ARMA model for the data.\n",
    "\n",
    "Below are some tips during identification.\n",
    "\n",
    "**Differencing**\n",
    "\n",
    "- *Unit Root Tests:* Use unit root statistical tests on the time series to determine whether or not it is stationary. Repeat after each round of differencing.\n",
    "- *Avoid over differencing:* Differencing the time series more than is required can result in the addition of extra serial correlation and additional complexity.\n",
    "\n",
    "**Configuring AR and MA**\n",
    "\n",
    "Two diagnostic plots can be used to help choose the p and q parameters of the ARMA or\n",
    "ARIMA. They are:\n",
    "- *Autocorrelation Function (ACF):* The plot summarizes the correlation of an observation with lag values. The x-axis shows the lag and the y-axis shows the correlation coefficient between -1 and 1 for negative and positive correlation.\n",
    "- *Partial Autocorrelation Function (PACF):* The plot summarizes the correlations for an observation with lag values that is not accounted for by prior lagged observations. Both plots are drawn as bar charts showing the 95% and 99% confidence intervals as horizontal lines. Bars that cross these confidence intervals are therefore more significant and worth noting. Some useful patterns you may observe on these plots are:\n",
    "- The model is AR if the ACF trails off after a lag and has a hard cut-off in the PACF after a lag. This lag is taken as the value for p.\n",
    "- The model is MA if the PACF trails off after a lag and has a hard cut-off in the ACF after the lag. This lag value is taken as the value for q.\n",
    "- The model is a mix of AR and MA if both the ACF and PACF trail off."
   ]
  },
  {
   "cell_type": "markdown",
   "metadata": {},
   "source": [
    "**Estimation**\n",
    "\n",
    "Estimation involves using numerical methods to minimize a loss or error term. These details are handled by the chosen library or tool.\n",
    "\n",
    "**Diagnostic Checking**\n",
    "\n",
    "The idea of diagnostic checking is to look for evidence that the model is not a good fit for the data. Two useful areas to investigate diagnostics are:\n",
    "1. Overfitting.\n",
    "2. Residual Errors.\n",
    "\n",
    "**Overfitting**\n",
    "\n",
    "The first check is to check whether the model overfits the data. Generally, this means that the\n",
    "model is more complex than it needs to be and captures random noise in the training data.\n",
    "\n",
    "**Residual Errors**\n",
    "\n",
    "Forecast residuals provide a great opportunity for diagnostics. A review of the distribution of errors can help tease out bias in the model. The errors from an ideal model would resemble white noise, that is a Gaussian distribution with a mean of zero and a symmetrical variance. For this, you may use density plots, histograms, and Q-Q plots that compare the distribution of errors to the expected distribution. A non-Gaussian distribution may suggest an opportunity for data pre-processing. A skew in the distribution or a non-zero mean may suggest a bias in forecasts that may be correct.\n",
    "\n",
    "Additionally, an ideal model would leave no temporal structure in the time series of forecast residuals. These can be checked by creating ACF and PACF plots of the residual error time series. The presence of serial correlation in the residual errors suggests further opportunity for using this information in the model."
   ]
  }
 ],
 "metadata": {
  "interpreter": {
   "hash": "c8e3cf4d6bb4a0ac7877b378c8a3c902fd94777f6924c9107da577688ed2ac1b"
  },
  "kernelspec": {
   "display_name": "Python 3.8.12 (conda)",
   "language": "python",
   "name": "python3"
  },
  "language_info": {
   "codemirror_mode": {
    "name": "ipython",
    "version": 3
   },
   "file_extension": ".py",
   "mimetype": "text/x-python",
   "name": "python",
   "nbconvert_exporter": "python",
   "pygments_lexer": "ipython3",
   "version": "3.8.12"
  },
  "orig_nbformat": 4
 },
 "nbformat": 4,
 "nbformat_minor": 2
}
