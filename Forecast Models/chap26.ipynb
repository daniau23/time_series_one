{
 "cells": [
  {
   "cell_type": "code",
   "execution_count": 1,
   "metadata": {},
   "outputs": [],
   "source": [
    "import pandas as pd\n",
    "import numpy as np \n",
    "import matplotlib.pyplot as plt\n",
    "import plotly.express as px\n",
    "import seaborn as sns\n",
    "import warnings\n",
    "warnings.filterwarnings(\"ignore\")"
   ]
  },
  {
   "cell_type": "markdown",
   "metadata": {},
   "source": [
    "## **Grid Search ARIMA Model Hyperparameters**"
   ]
  },
  {
   "cell_type": "markdown",
   "metadata": {},
   "source": [
    "The ARIMA model for time series analysis and forecasting can be tricky to configure. There are 3 parameters that require estimation by iterative trial and error from reviewing diagnostic plots and using 40-year-old heuristic rules. We can automate the process of evaluating a large number of hyperparameters for the ARIMA model by using a grid search procedure."
   ]
  },
  {
   "cell_type": "markdown",
   "metadata": {},
   "source": [
    "**Grid Searching Method**\n",
    "\n",
    "We can automate the process of training and evaluating ARIMA models on different combinations of \n",
    "model hyperparameters. In machine learning this is called a grid search or model tuning.\n",
    "\n",
    "The approach is broken down into two parts:\n",
    "1. Evaluate an ARIMA model.\n",
    "2. Evaluate sets of ARIMA parameters.\n",
    "\n",
    "**Evaluate ARIMA Model**\n",
    "\n",
    "This approach involves the following steps:\n",
    "1. Split the dataset into training and test sets.\n",
    "2. Walk the time steps in the test dataset.\n",
    "\n",
    "(a) Train an ARIMA model.\n",
    "\n",
    "(b) Make a one-step prediction.\n",
    "\n",
    "(c) Store prediction; get and store actual observation.\n",
    "\n",
    "3. Calculate error score for predictions compared to expected values. \n",
    "\n",
    "We can implement this in Python as a new standalone function called evaluate arima model() that takes a time series dataset as input as well as a tuple with the p, d, and q parameters for the model to be evaluated. The dataset is split in two: 66% for the initial training dataset and the remaining 34% for the test dataset.\n",
    "\n",
    "Each time step of the test set is iterated. Just one iteration provides a model that you could use to make predictions on new data. The iterative approach allows a new ARIMA model to be trained each time step. A prediction is made each iteration and stored in a list. This is so that at the end of the test set, all predictions can be compared to the list of expected values and an error score calculated. In this case, a root mean squared error score is calculated and returned. The complete function is listed below."
   ]
  },
  {
   "cell_type": "markdown",
   "metadata": {},
   "source": [
    "```\n",
    "# evaluate an ARIMA model for a given order (p,d,q)\n",
    "def evaluate_arima_model(X, arima_order):\n",
    "# prepare training dataset\n",
    "\t\ttrain_size = int(len(X) * 0.66)\n",
    "\t\ttrain, test = X[0:train_size], X[train_size:]\n",
    "\t\thistory = [x for x in train]\n",
    "\t\t# make predictions\n",
    "\t\tpredictions = list()\n",
    "\t\tfor t in range(len(test)):\n",
    "\t\t\t\tmodel = ARIMA(history, order=arima_order)\n",
    "\t\t\t\tmodel_fit = model.fit(disp=0)\n",
    "\t\t\t\tyhat = model_fit.forecast()[0]\n",
    "\t\t\t\tpredictions.append(yhat)\n",
    "\t\t\t\thistory.append(test[t])\n",
    "\t\t# calculate out-of-sample error\n",
    "\t\trmse = sqrt(mean_squared_error(test, predictions))\n",
    "\t\treturn rmse\n",
    "```"
   ]
  },
  {
   "cell_type": "markdown",
   "metadata": {},
   "source": [
    "**Iterate ARIMA Parameters**\n",
    "\n",
    "Evaluating a suite of parameters is relatively straightforward. The user must specify a grid of p, d, and q ARIMA parameters to iterate. A model is created for each parameter and its performance evaluated by calling the evaluate arima model() function described in the previous section. The function must keep track of the lowest error score observed and the configuration that caused it. This can be summarized at the end of the function with a print to standard out.\n",
    "\n",
    "We can implement this function called evaluate models() as a series of four loops. There are two additional considerations. The first is to ensure the input data are floating point values (as opposed to integers or strings), as this can cause the ARIMA procedure to fail. Second, the Statsmodels ARIMA procedure internally uses numerical optimization procedures to find a set of coefficients for the model."
   ]
  },
  {
   "cell_type": "markdown",
   "metadata": {},
   "source": [
    "```\n",
    "# evaluate combinations of p, d and q values for an ARIMA model\n",
    "def evaluate_models(dataset, p_values, d_values, q_values):\n",
    "    dataset = dataset.astype('float32')\n",
    "    best_score, best_cfg = float(\"inf\"), None\n",
    "    for p in p_values:\n",
    "        for d in d_values:\n",
    "            for q in q_values:\n",
    "                order = (p,d,q)\n",
    "                try:\n",
    "                    rmse = evaluate_arima_model(dataset, order)\n",
    "                    if rmse < best_score:\n",
    "                        best_score, best_cfg = rmse, order\n",
    "                    print(f\"ARIMA: {order}, RMSE={rmse}\")\n",
    "                except:\n",
    "                    continue\n",
    "    print(f'Best ARIMA: {best_cfg}, RMSE={best_score}')\n",
    "```"
   ]
  },
  {
   "cell_type": "markdown",
   "metadata": {},
   "source": [
    "**Shampoo Sales Case Study**\n",
    "\n"
   ]
  },
  {
   "cell_type": "code",
   "execution_count": 2,
   "metadata": {},
   "outputs": [
    {
     "data": {
      "text/plain": [
       "Month\n",
       "1901-01-01    266.0\n",
       "1901-02-01    145.9\n",
       "1901-03-01    183.1\n",
       "1901-04-01    119.3\n",
       "1901-05-01    180.3\n",
       "Name: Sales, dtype: float64"
      ]
     },
     "execution_count": 2,
     "metadata": {},
     "output_type": "execute_result"
    }
   ],
   "source": [
    "# load dataset\n",
    "from sklearn.metrics import mean_squared_error\n",
    "from statsmodels.tsa.arima.model import ARIMA\n",
    "def parser(x):\n",
    "    return pd.datetime.strptime('190'+x, \"%Y-%m\")\n",
    "series = pd.read_csv('monthly-shampoo-sales.csv', header=0,parse_dates=True,index_col=0,\n",
    "                    squeeze=True,date_parser=parser)\n",
    "\n",
    "series.head()"
   ]
  },
  {
   "cell_type": "code",
   "execution_count": 3,
   "metadata": {},
   "outputs": [],
   "source": [
    "# evaluate parameters\n",
    "# p_values = [0,1,2,4,6,8,10]\n",
    "p_values = [0,1,2,4]\n",
    "d_values = range(0,3)\n",
    "q_values = range(0,3)"
   ]
  },
  {
   "cell_type": "code",
   "execution_count": 4,
   "metadata": {},
   "outputs": [],
   "source": [
    "# evaluate an ARIMA model for a given order (p,d,q)\n",
    "def evaluate_arima_model(X, arima_order):\n",
    "# prepare training dataset\n",
    "\t\ttrain_size = int(len(X) * 0.66)\n",
    "\t\ttrain, test = X[0:train_size], X[train_size:]\n",
    "\t\thistory = [x for x in train]\n",
    "\t\t# make predictions\n",
    "\t\tpredictions = list()\n",
    "\t\tfor t in range(len(test)):\n",
    "\t\t\t\tmodel = ARIMA(history, order=arima_order)\n",
    "\t\t\t\tmodel_fit = model.fit()\n",
    "\t\t\t\tyhat = model_fit.forecast()[0]\n",
    "\t\t\t\tpredictions.append(yhat)\n",
    "\t\t\t\thistory.append(test[t])\n",
    "\t\t# calculate out-of-sample error\n",
    "\t\trmse = mean_squared_error(test, predictions,squared=False)\n",
    "\t\treturn rmse"
   ]
  },
  {
   "cell_type": "code",
   "execution_count": 5,
   "metadata": {},
   "outputs": [],
   "source": [
    "# evaluate combinations of p, d and q values for an ARIMA model\n",
    "def evaluate_models(dataset, p_values, d_values, q_values):\n",
    "    dataset = dataset.astype('float32')\n",
    "    best_score, best_cfg = float(\"inf\"), None\n",
    "    for p in p_values:\n",
    "        for d in d_values:\n",
    "            for q in q_values:\n",
    "                order = (p,d,q)\n",
    "                try:\n",
    "                    rmse = evaluate_arima_model(dataset, order)\n",
    "                    if rmse < best_score:\n",
    "                        best_score, best_cfg = rmse, order\n",
    "                    print(f\"ARIMA: {order}, RMSE={rmse}\")\n",
    "                except:\n",
    "                    continue\n",
    "    print(f'Best ARIMA: {best_cfg}, RMSE={best_score}')"
   ]
  },
  {
   "cell_type": "code",
   "execution_count": 7,
   "metadata": {},
   "outputs": [
    {
     "name": "stdout",
     "output_type": "stream",
     "text": [
      "ARIMA: (0, 0, 0), RMSE=228.96565352403775\n",
      "ARIMA: (0, 0, 1), RMSE=195.59598621855295\n",
      "ARIMA: (0, 0, 2), RMSE=154.8860176073436\n",
      "ARIMA: (0, 1, 0), RMSE=133.15599277594362\n",
      "ARIMA: (0, 1, 1), RMSE=104.07674196291818\n",
      "ARIMA: (0, 1, 2), RMSE=68.34454730581291\n",
      "ARIMA: (0, 2, 0), RMSE=255.18668879980098\n",
      "ARIMA: (0, 2, 1), RMSE=134.16842354768858\n",
      "ARIMA: (0, 2, 2), RMSE=74.64390442018576\n",
      "ARIMA: (1, 0, 0), RMSE=152.02793967870213\n",
      "ARIMA: (1, 0, 1), RMSE=111.78718805439284\n",
      "ARIMA: (1, 0, 2), RMSE=77.09175525253376\n",
      "ARIMA: (1, 1, 0), RMSE=88.63093913273268\n",
      "ARIMA: (1, 1, 1), RMSE=87.94241760457055\n",
      "ARIMA: (1, 1, 2), RMSE=90.98639663497354\n",
      "ARIMA: (1, 2, 0), RMSE=134.5762140550146\n",
      "ARIMA: (1, 2, 1), RMSE=86.15734597117228\n",
      "ARIMA: (1, 2, 2), RMSE=65.51057554367522\n",
      "ARIMA: (2, 0, 0), RMSE=100.87910704781405\n",
      "ARIMA: (2, 0, 1), RMSE=98.95301124039884\n",
      "ARIMA: (2, 0, 2), RMSE=98.68871394878457\n",
      "ARIMA: (2, 1, 0), RMSE=85.06349333500745\n",
      "ARIMA: (2, 1, 1), RMSE=88.42791741742784\n",
      "ARIMA: (2, 1, 2), RMSE=83.49919657770857\n",
      "ARIMA: (2, 2, 0), RMSE=97.82850065228722\n",
      "ARIMA: (2, 2, 1), RMSE=76.8468430367298\n",
      "ARIMA: (2, 2, 2), RMSE=80.80779900475682\n",
      "ARIMA: (4, 0, 0), RMSE=100.97361071544641\n",
      "ARIMA: (4, 0, 1), RMSE=101.50896197287902\n",
      "ARIMA: (4, 0, 2), RMSE=97.30224327213182\n",
      "ARIMA: (4, 1, 0), RMSE=95.06791410868325\n",
      "ARIMA: (4, 1, 1), RMSE=84.81655659330633\n",
      "ARIMA: (4, 1, 2), RMSE=84.20404822278404\n",
      "ARIMA: (4, 2, 0), RMSE=85.39707429074154\n",
      "ARIMA: (4, 2, 1), RMSE=74.21934044909074\n",
      "ARIMA: (4, 2, 2), RMSE=70.1404600668211\n",
      "Best ARIMA: (1, 2, 2), RMSE=65.51057554367522\n"
     ]
    }
   ],
   "source": [
    "warnings.filterwarnings(\"ignore\")\n",
    "evaluate_models(series.values, p_values, d_values, q_values)"
   ]
  },
  {
   "cell_type": "markdown",
   "metadata": {},
   "source": [
    "**Daily Female Births Case Study**"
   ]
  },
  {
   "cell_type": "code",
   "execution_count": 8,
   "metadata": {},
   "outputs": [],
   "source": [
    "series = pd.read_csv('daily-total-female-births.csv', header=0,\n",
    "                    parse_dates=True,index_col=0,squeeze=True)"
   ]
  },
  {
   "cell_type": "code",
   "execution_count": 9,
   "metadata": {},
   "outputs": [],
   "source": [
    "p_values = [0,1,2,4,6,8,10]\n",
    "d_values = range(0,3)\n",
    "q_values = range(0,3)"
   ]
  },
  {
   "cell_type": "code",
   "execution_count": 10,
   "metadata": {},
   "outputs": [
    {
     "name": "stdout",
     "output_type": "stream",
     "text": [
      "ARIMA: (0, 0, 0), RMSE=8.189193460669514\n",
      "ARIMA: (0, 0, 1), RMSE=7.884453496406967\n",
      "ARIMA: (0, 0, 2), RMSE=7.7707096084433775\n",
      "ARIMA: (0, 1, 0), RMSE=9.151174787971215\n",
      "ARIMA: (0, 1, 1), RMSE=7.426989634243819\n",
      "ARIMA: (0, 1, 2), RMSE=7.351722389371844\n",
      "ARIMA: (0, 2, 0), RMSE=15.669588380043999\n",
      "ARIMA: (0, 2, 1), RMSE=9.167337087616598\n",
      "ARIMA: (0, 2, 2), RMSE=7.45403131397974\n",
      "ARIMA: (1, 0, 0), RMSE=7.802234156510252\n",
      "ARIMA: (1, 0, 1), RMSE=7.567944935270391\n",
      "ARIMA: (1, 0, 2), RMSE=7.550569315971624\n",
      "ARIMA: (1, 1, 0), RMSE=8.105754582175601\n",
      "ARIMA: (1, 1, 1), RMSE=7.340454870932896\n",
      "ARIMA: (1, 1, 2), RMSE=7.329386102593364\n",
      "ARIMA: (1, 2, 0), RMSE=11.968457146549\n",
      "ARIMA: (1, 2, 1), RMSE=8.11984964088242\n",
      "ARIMA: (1, 2, 2), RMSE=7.407060530976554\n",
      "ARIMA: (2, 0, 0), RMSE=7.697471622159684\n",
      "ARIMA: (2, 0, 1), RMSE=7.537903567707994\n",
      "ARIMA: (2, 1, 0), RMSE=7.700077851465145\n",
      "ARIMA: (2, 1, 1), RMSE=7.332344510157906\n",
      "ARIMA: (2, 1, 2), RMSE=7.355466466691162\n",
      "ARIMA: (2, 2, 0), RMSE=10.3546795557865\n",
      "ARIMA: (2, 2, 1), RMSE=7.713898856117903\n",
      "ARIMA: (2, 2, 2), RMSE=4533.170140715802\n",
      "ARIMA: (4, 0, 0), RMSE=7.693227463899019\n",
      "ARIMA: (4, 0, 1), RMSE=7.505055182449159\n",
      "ARIMA: (4, 0, 2), RMSE=19.817473237813754\n",
      "ARIMA: (4, 1, 0), RMSE=7.565494932790282\n",
      "ARIMA: (4, 1, 1), RMSE=7.39561428591905\n",
      "ARIMA: (4, 1, 2), RMSE=7.321105755187582\n",
      "ARIMA: (4, 2, 0), RMSE=8.940138313096245\n",
      "ARIMA: (4, 2, 1), RMSE=7.576538295732415\n",
      "ARIMA: (6, 0, 0), RMSE=7.666071324821547\n",
      "ARIMA: (6, 1, 0), RMSE=7.2805626723758925\n",
      "ARIMA: (6, 1, 1), RMSE=7.340124022143\n",
      "ARIMA: (6, 1, 2), RMSE=7.4324274525408605\n",
      "ARIMA: (6, 2, 0), RMSE=8.33696462456441\n",
      "ARIMA: (6, 2, 1), RMSE=7.291525354845522\n",
      "ARIMA: (8, 0, 0), RMSE=7.548630059150527\n",
      "ARIMA: (8, 0, 1), RMSE=7.5647214818777755\n",
      "ARIMA: (8, 0, 2), RMSE=7.599516084307916\n",
      "ARIMA: (8, 1, 0), RMSE=7.55543336641228\n",
      "ARIMA: (8, 1, 2), RMSE=7.410346306391677\n",
      "ARIMA: (8, 2, 0), RMSE=8.111670764851805\n",
      "ARIMA: (8, 2, 1), RMSE=7.559722573961347\n",
      "ARIMA: (8, 2, 2), RMSE=7.48966999995602\n",
      "ARIMA: (10, 0, 0), RMSE=7.580780935005139\n",
      "ARIMA: (10, 0, 1), RMSE=7.621053582530423\n",
      "ARIMA: (10, 0, 2), RMSE=7.612341438628138\n",
      "ARIMA: (10, 1, 0), RMSE=7.559712617585275\n",
      "ARIMA: (10, 1, 1), RMSE=7.402482655687779\n",
      "ARIMA: (10, 2, 0), RMSE=8.079089379690831\n",
      "ARIMA: (10, 2, 1), RMSE=7.564879553927613\n",
      "ARIMA: (10, 2, 2), RMSE=7.512082845583416\n",
      "Best ARIMA: (6, 1, 0), RMSE=7.2805626723758925\n"
     ]
    }
   ],
   "source": [
    "warnings.filterwarnings(\"ignore\")\n",
    "evaluate_models(series.values, p_values, d_values, q_values)"
   ]
  },
  {
   "cell_type": "markdown",
   "metadata": {},
   "source": [
    "**Extensions**\n",
    "\n",
    "The grid search method used in this tutorial is simple and can easily be extended. This section lists some ideas to extend the approach you may wish to explore.\n",
    "\n",
    "- Seed Grid. The classical diagnostic tools of ACF and PACF plots can still be used with the results used to seed the grid of ARIMA parameters to search.\n",
    "- Alternate Measures. The search seeks to optimize the out-of-sample root mean squared error. This could be changed to another out-of-sample statistic, an in-sample statistic, such as AIC or BIC, or some combination of the two. You can choose a metric that is most meaningful on your project.\n",
    "- Residual Diagnostics. Statistics can automatically be calculated on the residual forecast errors to provide an additional indication of the quality of the fit. Examples include statistical tests for whether the distribution of residuals is Gaussian and whether there is an autocorrelation in the residuals.\n",
    "- Update Model. The ARIMA model is created from scratch for each one-step forecast. With careful inspection of the API, it may be possible to update the internal data of the model with new observations rather than recreating it from scratch.\n",
    "- Preconditions. The ARIMA model can make assumptions about the time series dataset, such as normality and stationarity. These could be checked and a warning raised for a given of a dataset prior to a given model being trained."
   ]
  }
 ],
 "metadata": {
  "interpreter": {
   "hash": "a017dd0393a0e3a8f8212c1eee4855f5a58e74c0f68a628bec628c0f2aa76934"
  },
  "kernelspec": {
   "display_name": "Python 3.8.12 (conda)",
   "language": "python",
   "name": "python3"
  },
  "language_info": {
   "codemirror_mode": {
    "name": "ipython",
    "version": 3
   },
   "file_extension": ".py",
   "mimetype": "text/x-python",
   "name": "python",
   "nbconvert_exporter": "python",
   "pygments_lexer": "ipython3",
   "version": "3.8.12"
  },
  "orig_nbformat": 4
 },
 "nbformat": 4,
 "nbformat_minor": 2
}
