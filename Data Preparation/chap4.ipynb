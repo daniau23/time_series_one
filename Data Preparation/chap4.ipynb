{
 "cells": [
  {
   "cell_type": "code",
   "execution_count": 1,
   "metadata": {},
   "outputs": [],
   "source": [
    "import pandas as pd\n",
    "import numpy as np \n",
    "import matplotlib.pyplot as plt\n",
    "import plotly.express as px\n",
    "import plotly.graph_objects as go\n",
    "import plotly.figure_factory as ff\n",
    "import seaborn as sns\n",
    "import warnings\n",
    "warnings.filterwarnings(\"ignore\")"
   ]
  },
  {
   "cell_type": "markdown",
   "metadata": {},
   "source": [
    "# **Load and Explore Time Series Data**"
   ]
  },
  {
   "cell_type": "code",
   "execution_count": 6,
   "metadata": {},
   "outputs": [],
   "source": [
    "series_data =  pd.read_csv(\"daily-total-female-births.csv\")\n",
    "# type(series_data)\n",
    "# pandas.core.frame.DataFrame"
   ]
  },
  {
   "cell_type": "code",
   "execution_count": 11,
   "metadata": {},
   "outputs": [
    {
     "name": "stdout",
     "output_type": "stream",
     "text": [
      "<class 'pandas.core.series.Series'>\n",
      "Date\n",
      "1959-01-01    35\n",
      "1959-01-02    32\n",
      "1959-01-03    30\n",
      "1959-01-04    31\n",
      "1959-01-05    44\n",
      "Name: Births, dtype: int64\n"
     ]
    }
   ],
   "source": [
    "series =  pd.read_csv(\"daily-total-female-births.csv\", header=0,index_col=0,parse_dates=True,squeeze=True)\n",
    "print(type(series))\n",
    "# <class 'pandas.core.series.Series'>\n",
    "print(series.head())"
   ]
  },
  {
   "cell_type": "markdown",
   "metadata": {},
   "source": [
    "### Exploring Time Series Data"
   ]
  },
  {
   "cell_type": "code",
   "execution_count": 12,
   "metadata": {},
   "outputs": [
    {
     "data": {
      "text/plain": [
       "Date\n",
       "1959-01-01    35\n",
       "1959-01-02    32\n",
       "1959-01-03    30\n",
       "1959-01-04    31\n",
       "1959-01-05    44\n",
       "1959-01-06    29\n",
       "1959-01-07    45\n",
       "1959-01-08    43\n",
       "1959-01-09    38\n",
       "1959-01-10    27\n",
       "Name: Births, dtype: int64"
      ]
     },
     "execution_count": 12,
     "metadata": {},
     "output_type": "execute_result"
    }
   ],
   "source": [
    "series.head(10)"
   ]
  },
  {
   "cell_type": "code",
   "execution_count": 13,
   "metadata": {},
   "outputs": [
    {
     "data": {
      "text/plain": [
       "365"
      ]
     },
     "execution_count": 13,
     "metadata": {},
     "output_type": "execute_result"
    }
   ],
   "source": [
    "series.size"
   ]
  },
  {
   "cell_type": "markdown",
   "metadata": {},
   "source": [
    "*Querying By Time*\n",
    "\n",
    "This type of index-based querying can help to prepare summary statistics and plots while exploring the dataset."
   ]
  },
  {
   "cell_type": "code",
   "execution_count": 17,
   "metadata": {},
   "outputs": [
    {
     "data": {
      "text/plain": [
       "Date\n",
       "1959-01-01    35\n",
       "1959-01-02    32\n",
       "1959-01-03    30\n",
       "1959-01-04    31\n",
       "1959-01-05    44\n",
       "1959-01-06    29\n",
       "1959-01-07    45\n",
       "1959-01-08    43\n",
       "1959-01-09    38\n",
       "1959-01-10    27\n",
       "1959-01-11    38\n",
       "1959-01-12    33\n",
       "1959-01-13    55\n",
       "1959-01-14    47\n",
       "1959-01-15    45\n",
       "1959-01-16    37\n",
       "1959-01-17    50\n",
       "1959-01-18    43\n",
       "1959-01-19    41\n",
       "1959-01-20    52\n",
       "1959-01-21    34\n",
       "1959-01-22    53\n",
       "1959-01-23    39\n",
       "1959-01-24    32\n",
       "1959-01-25    37\n",
       "1959-01-26    43\n",
       "1959-01-27    39\n",
       "1959-01-28    35\n",
       "1959-01-29    44\n",
       "1959-01-30    38\n",
       "1959-01-31    24\n",
       "Name: Births, dtype: int64"
      ]
     },
     "execution_count": 17,
     "metadata": {},
     "output_type": "execute_result"
    }
   ],
   "source": [
    "series['1959-01']\n",
    "# series['1959-01'].head(31)"
   ]
  },
  {
   "cell_type": "markdown",
   "metadata": {},
   "source": [
    "*Descriptive Statistics*"
   ]
  },
  {
   "cell_type": "code",
   "execution_count": 18,
   "metadata": {},
   "outputs": [
    {
     "data": {
      "text/plain": [
       "count    365.000000\n",
       "mean      41.980822\n",
       "std        7.348257\n",
       "min       23.000000\n",
       "25%       37.000000\n",
       "50%       42.000000\n",
       "75%       46.000000\n",
       "max       73.000000\n",
       "Name: Births, dtype: float64"
      ]
     },
     "execution_count": 18,
     "metadata": {},
     "output_type": "execute_result"
    }
   ],
   "source": [
    "series.describe()"
   ]
  }
 ],
 "metadata": {
  "interpreter": {
   "hash": "a017dd0393a0e3a8f8212c1eee4855f5a58e74c0f68a628bec628c0f2aa76934"
  },
  "kernelspec": {
   "display_name": "Python 3.8.12 (conda)",
   "language": "python",
   "name": "python3"
  },
  "language_info": {
   "codemirror_mode": {
    "name": "ipython",
    "version": 3
   },
   "file_extension": ".py",
   "mimetype": "text/x-python",
   "name": "python",
   "nbconvert_exporter": "python",
   "pygments_lexer": "ipython3",
   "version": "3.8.12"
  },
  "orig_nbformat": 4
 },
 "nbformat": 4,
 "nbformat_minor": 2
}
