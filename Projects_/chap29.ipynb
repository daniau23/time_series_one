{
 "cells": [
  {
   "cell_type": "code",
   "execution_count": 1,
   "metadata": {},
   "outputs": [],
   "source": [
    "import pandas as pd\n",
    "import numpy as np \n",
    "import matplotlib.pyplot as plt\n",
    "import plotly.express as px\n",
    "import seaborn as sns\n",
    "import warnings\n",
    "warnings.filterwarnings(\"ignore\")"
   ]
  },
  {
   "cell_type": "markdown",
   "metadata": {},
   "source": [
    "## **Time Series Forecast Projects**"
   ]
  },
  {
   "cell_type": "markdown",
   "metadata": {},
   "source": [
    "A time series forecast process is a set of steps or a recipe that leads you from defining your problem through to the outcome of having a time series forecast model or set of predictions. In this lesson, you will discover time series forecast processes that you can use to guide you through your forecast project. After reading this lesson, you will know:\n",
    "- The 5-Step forecasting task by Hyndman and Athanasopoulos to guide you from problem definition to using and evaluating your forecast model.\n",
    "- The iterative forecast development process by Shmueli and Lichtendahl to guide you from defining your goal to implementing forecasts.\n",
    "- Suggestions and tips for working through your own time series forecasting project."
   ]
  },
  {
   "cell_type": "markdown",
   "metadata": {},
   "source": [
    "**5-Step Forecasting Task**\n",
    "The 5 basic steps in a forecasting task are summarized by Hyndman and Athanasopoulos in their book Forecasting: principles and practice. These steps are:\n",
    "1. *Problem Definition:* The careful consideration of who requires the forecast and how the forecast will be used. This is described as the most difficult part of the process, most likely because it is entirely problem specific and subjective.\n",
    "2. *Gathering Information:* The collection of historical data to analyze and model. This also includes getting access to domain experts and gathering information that can help to best interpret the historical information, and ultimately the forecasts that will be made.\n",
    "3. *Preliminary Exploratory Analysis:* The use of simple tools, like graphing and sum- mary statistics, to better understand the data. Review plots and summarize and note obvious temporal structures, like trends seasonality, anomalies like missing data, corruption, and outliers, and any other structures that may impact forecasting.\n",
    "4. *Choosing and Fitting Models:* Evaluate two, three, or a suite of models of varying types on the problem. Models may be chosen for evaluation based on the assumptions they make and whether the dataset conforms. Models are configured and fit to the historical data.\n",
    "5. *Using and Evaluating a Forecasting Model:* The model is used to make forecasts and the performance of those forecasts is evaluated and skill of the models estimated. This may involve back-testing with historical data or waiting for new observations to become available for comparison.\n",
    "\n",
    "![five](5_Step_Forecasting_Task.png)\n",
    "\n",
    "**The focus of the process is on understanding the problem and fitting a good model.**"
   ]
  },
  {
   "cell_type": "markdown",
   "metadata": {},
   "source": [
    "**Iterative Forecast Development Process**\n",
    "\n",
    "The authors Shmueli and Lichtendahl in their book Practical Time Series Forecasting with R: A Hands-On Guide suggest an 8-step process. This process extends beyond the development of a model and making forecasts and involves iterative loops. Their process can be summarized as follows:\n",
    "\n",
    "1. Define Goal.\n",
    "2. Get Data.\n",
    "3. Explore and Visualize Series.\n",
    "4. Pre-Process Data.\n",
    "5. Partition Series.\n",
    "6. Apply Forecasting Method/s.\n",
    "7. Evaluate and Compare Performance.\n",
    "8. Implement Forecasts/Systems.\n",
    "\n",
    "![eight](Iterative_Forecast_Development_Process.png)"
   ]
  },
  {
   "cell_type": "markdown",
   "metadata": {},
   "source": [
    "The process is more focused on the ongoing development and refinement of one or more models on the problem until an acceptable level of performance is achieved. This process can continue where models are revised and updated as new data and new insights are made available.\n",
    "\n",
    "Of course, the process does not end once forecasts are generated, because forecasting is typically an ongoing goal. Hence, forecast accuracy is monitored and sometimes forecasting method is adapted or changed to accommodate changes in the goal or the data over time\n",
    "\n",
    "--- Page 16, Practical Time Series Forecasting with R: A Hands-On Guide."
   ]
  },
  {
   "cell_type": "markdown",
   "metadata": {},
   "source": [
    "**Suggestions and Tips**\n",
    "\n",
    "*The best source of knowledge on a forecasting project comes from the results of trial and error with real historical data.*\n",
    "\n",
    "- Select or devise a time series forecast process that is tailored to your project, tools, team, and level of expertise.\n",
    "- Write down all assumptions and questions you have during analysis and forecasting work, then revisit them later and seek to answer them with small experiments on historical data.\n",
    "- Review a large number of plots of your data at different time scales, zooms, and transforms of observations in an effort to help make exploitable structures present in the data obvious to you.\n",
    "- Develop a robust test harness for evaluating models using a meaningful performance measure and a reliable test strategy, such as walk-forward validation (rolling forecast).\n",
    "- Start with simple naive forecast models to provide a baseline of performance for more sophisticated methods to improve upon.\n",
    "- Create a large number of perspectives or views on your time series data, including a suite of automated transforms, and evaluate each with one or a suite of models in order to help automatically discover non-intuitive representations and model combinations that result in good predictions for your problem.\n",
    "- Try a suite of models of differing types on your problem, from simple to more advanced approaches.\n",
    "- Try a suite of configurations for a given problem, including configurations that have worked well on other problems.\n",
    "- Try automated hyperparameter optimization methods for models to  flush out a suite of well-performing models as well as non-intuitive model configurations that you would not have tried manually.\n",
    "- Devise automated tests of performance and skill for ongoing predictions to help to automatically determine if and when a model has become stale and requires review or retraining."
   ]
  }
 ],
 "metadata": {
  "interpreter": {
   "hash": "a017dd0393a0e3a8f8212c1eee4855f5a58e74c0f68a628bec628c0f2aa76934"
  },
  "kernelspec": {
   "display_name": "Python 3.8.12 (conda)",
   "language": "python",
   "name": "python3"
  },
  "language_info": {
   "codemirror_mode": {
    "name": "ipython",
    "version": 3
   },
   "file_extension": ".py",
   "mimetype": "text/x-python",
   "name": "python",
   "nbconvert_exporter": "python",
   "pygments_lexer": "ipython3",
   "version": "3.8.12"
  },
  "orig_nbformat": 4
 },
 "nbformat": 4,
 "nbformat_minor": 2
}
